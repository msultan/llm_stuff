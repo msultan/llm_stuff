{
 "cells": [
  {
   "cell_type": "markdown",
   "id": "73ac5ea9",
   "metadata": {},
   "source": [
    "# Simple notebook to help write out a useful paper summary to a word document. \n"
   ]
  },
  {
   "cell_type": "markdown",
   "id": "6571cfbf",
   "metadata": {},
   "source": [
    "## This tool is designed to help write out an intro, figure AND summarizedcaptions, and critique of a paper to a short document. In my opinion, that is a better way to try and understand a paper compared to just reading a summary. "
   ]
  },
  {
   "cell_type": "code",
   "execution_count": 2,
   "id": "38160124",
   "metadata": {},
   "outputs": [
    {
     "name": "stdout",
     "output_type": "stream",
     "text": [
      "The autoreload extension is already loaded. To reload it, use:\n",
      "  %reload_ext autoreload\n"
     ]
    }
   ],
   "source": [
    "%load_ext autoreload\n",
    "%autoreload 2"
   ]
  },
  {
   "cell_type": "code",
   "execution_count": 3,
   "id": "62abd312",
   "metadata": {},
   "outputs": [],
   "source": [
    "pdf_path='./data/2212.00136v2.pdf'"
   ]
  },
  {
   "cell_type": "code",
   "execution_count": 4,
   "id": "ec4de873",
   "metadata": {},
   "outputs": [],
   "source": [
    "num_of_figs=4"
   ]
  },
  {
   "cell_type": "code",
   "execution_count": 5,
   "id": "bf55ad6f",
   "metadata": {},
   "outputs": [],
   "source": [
    "import fitz  # PyMuPDF\n",
    "import os\n",
    "from PIL import Image, ImageDraw, ImageFont\n",
    "from io import BytesIO\n",
    "import tempfile\n",
    "import ell \n",
    "\n",
    "def embed_text_in_image(image, text, font_size=1000, position=(10, 10)):\n",
    "    # Convert the image bytes to a PIL Image object\n",
    "    image = Image.open(BytesIO(image))\n",
    "    \n",
    "    # Prepare to draw on the image\n",
    "    draw = ImageDraw.Draw(image)\n",
    "    \n",
    "    # Load a font (default font from PIL)\n",
    "    try:\n",
    "        font = ImageFont.truetype(\"arial.ttf\", font_size)  # You can use other fonts available on your system\n",
    "    except IOError:\n",
    "        font = ImageFont.load_default()\n",
    "    \n",
    "    # Embed the text\n",
    "    draw.text(position, text, font=font, fill=(0, 0, 0))  # Fill white text\n",
    "\n",
    "    # Return the modified image\n",
    "    return image\n",
    "\n",
    "def extract_images_from_pdf(pdf_path, output_folder, text_to_embed=\"Figure {page_num}\"):\n",
    "    # Open the PDF\n",
    "    pdf_document = fitz.open(pdf_path)\n",
    "    \n",
    "    # Make sure the output folder exists\n",
    "    if not os.path.exists(output_folder):\n",
    "        os.makedirs(output_folder)\n",
    "    \n",
    "    image_count = 0\n",
    "    for page_number in range(len(pdf_document)):\n",
    "        # Get the page\n",
    "        page = pdf_document.load_page(page_number)\n",
    "        \n",
    "        # Extract images on the page\n",
    "        image_list = page.get_images(full=True)\n",
    "        \n",
    "        for image_index, img in enumerate(image_list):\n",
    "            image_count += 1\n",
    "            # Extract image object number\n",
    "            xref = img[0]\n",
    "            \n",
    "            # Extract the image bytes\n",
    "            base_image = pdf_document.extract_image(xref)\n",
    "            image_bytes = base_image[\"image\"]\n",
    "            image_ext = base_image[\"ext\"]\n",
    "            \n",
    "            # Embed the text in the image (e.g., Page number or custom text)\n",
    "            embedded_text = text_to_embed.format(page_num=image_count)\n",
    "            modified_image = embed_text_in_image(image_bytes, embedded_text)\n",
    "            \n",
    "            # Save the modified image as a PNG\n",
    "            image_filename = f\"image_{page_number + 1}_{image_index + 1}.png\"\n",
    "            image_filepath = os.path.join(output_folder, image_filename)\n",
    "            \n",
    "            # Save the image to disk\n",
    "            modified_image.save(image_filepath, \"PNG\")\n",
    "    \n",
    "    print(f\"Extracted and saved {image_count} images with embedded text from the PDF.\")\n",
    "    pdf_document.close()\n",
    "\n",
    "from docx import Document\n",
    "from docx.shared import Inches\n",
    "from docx.enum.text import WD_ALIGN_PARAGRAPH\n",
    "\n",
    "def create_word_report(file_name, sections):\n",
    "    \"\"\"\n",
    "    Creates a Word document report with titles, text, and images.\n",
    "\n",
    "    :param file_name: Name of the output Word file.\n",
    "    :param sections: List of dictionaries, each dictionary represents a section with:\n",
    "                     - 'title': Section title (string)\n",
    "                     - 'text': Section text (string)\n",
    "                     - 'image_path': Optional path to an image file (string)\n",
    "    \"\"\"\n",
    "    # Initialize the Word document\n",
    "    doc = Document()\n",
    "\n",
    "    # Iterate through each section\n",
    "    for section in sections:\n",
    "        # Add the title with heading style\n",
    "        title = doc.add_heading(section.get(\"title\", \"\"), level=1)\n",
    "        title.alignment = WD_ALIGN_PARAGRAPH.CENTER  # Center-align title\n",
    "\n",
    "        # Add the image if provided\n",
    "        image_path = section.get(\"image_path\")\n",
    "        if image_path:\n",
    "            doc.add_paragraph()  # Adds some space before the image\n",
    "            doc.add_picture(image_path, width=Inches(5))  # Adjust image width to 5 inches\n",
    "\n",
    "\n",
    "        # Add the section text\n",
    "        doc.add_paragraph(section.get(\"text\", \"\"))\n",
    "        doc.add_paragraph()  # Adds a blank line between sections\n",
    "\n",
    "    # Save the Word document\n",
    "    doc.save(file_name)\n",
    "    print(f\"Report saved as {file_name}\")\n"
   ]
  },
  {
   "cell_type": "code",
   "execution_count": 6,
   "id": "385e9849",
   "metadata": {},
   "outputs": [],
   "source": [
    "pdf_document = fitz.open(pdf_path)"
   ]
  },
  {
   "cell_type": "code",
   "execution_count": 7,
   "id": "f886a218",
   "metadata": {},
   "outputs": [],
   "source": [
    "pages=[pdf_document.load_page(i).get_text() for i in  range(len(pdf_document))]"
   ]
  },
  {
   "cell_type": "code",
   "execution_count": 8,
   "id": "0971ce79",
   "metadata": {},
   "outputs": [],
   "source": [
    "import tempfile\n"
   ]
  },
  {
   "cell_type": "code",
   "execution_count": 9,
   "id": "fb05d456",
   "metadata": {},
   "outputs": [],
   "source": [
    "tmp_folder = tempfile.gettempdir()"
   ]
  },
  {
   "cell_type": "code",
   "execution_count": 10,
   "id": "22d04478",
   "metadata": {},
   "outputs": [
    {
     "name": "stdout",
     "output_type": "stream",
     "text": [
      "Extracted and saved 7 images with embedded text from the PDF.\n"
     ]
    }
   ],
   "source": [
    "extract_images_from_pdf(pdf_path,tmp_folder)"
   ]
  },
  {
   "cell_type": "code",
   "execution_count": 11,
   "id": "2e9d09b9",
   "metadata": {},
   "outputs": [],
   "source": [
    "@ell.simple(model=\"gpt-4o\")\n",
    "def intro(text: str):\n",
    "    \"\"\"I want you to act as a PhD level research paper summarizer. I will provide you with a research paper \\\n",
    "    on a specific topic, and you will create a introductory ONE paragraph summary the main points and \\\n",
    "    findings of the paper. Your summary should be concise and should accurately and objectively \\\n",
    "    communicate the key points of the paper. You should not include any personal opinions or \\\n",
    "    potential uses or interpretations in the paragraph, but rather focus on objectively presenting the\n",
    "    scientific content from the paper. Your summary should \\\n",
    "    be written in your own words and should not include any direct quotes from the paper. Please \\\n",
    "    ensure that your summary is clear, concise, and accurately reflects the content of the original paper.\n",
    "    Provide a short title of <50 characters separated by <Title> and </Title> and \\\n",
    "    a single summary paragraph separated by <Long Summary> and </Long Summary> \n",
    "    Think deeply about the paper, go step by step, and do not hallucinate.\"\"\" # System prompt\n",
    "    return f\"Please help me summarize {text}.\" # User prompt\n"
   ]
  },
  {
   "cell_type": "code",
   "execution_count": 12,
   "id": "20ca4984",
   "metadata": {},
   "outputs": [],
   "source": [
    "@ell.simple(model=\"gpt-4o\")\n",
    "def three_main_points(text: str):\n",
    "    \"\"\"I want you to act as a PhD level research paper summarizer. I will provide you with a research paper \\\n",
    "    on a specific topic, and you will create a introductory summary list of the 3 main points and \\\n",
    "    findings of the paper.\\\n",
    "    Your list should be concise and should accurately and objectively communicate the key points \\\n",
    "    of the paper. You should not include any personal opinions or interpretations in your summary, \\\n",
    "    but rather focus on objectively presenting the information from the paper. Your summary should \\\n",
    "    be written in your own words and should not include any direct quotes from the paper. Please \\\n",
    "    ensure that your summary is clear, concise, and accurately reflects the content of the original paper.\n",
    "    Provide a short title of <50 characters separated by <Title> and </Title> and \\\n",
    "    a longer numbered list separated by <Long Summary> and </Long Summary> \n",
    "    Think deeply about the paper, go step by step, and do not hallucinate.\"\"\" # System prompt\n",
    "    return f\"Please help me summarize {text}.\" # User prompt\n"
   ]
  },
  {
   "cell_type": "code",
   "execution_count": 13,
   "id": "b380aba2",
   "metadata": {},
   "outputs": [],
   "source": [
    "@ell.simple(model=\"gpt-4o\")\n",
    "def limitations(text: str):\n",
    "        return [\n",
    "        ell.system(\"\"\"I want you to act as a research paper critic. I will provide you with a research paper \\\n",
    "    on a specific topic, and you will create a critical point by point summary of the main limitations of the paper.\\\n",
    "    Your summary should be concise and should accurately and objectively communicate the potential scientific \\\n",
    "    issues within the paper. Think deeply about the metdology and results, and where the authors could have made \\\n",
    "    a mistake.You should not summarize the paper not should you include any personal opinions. Rather focus on \\\n",
    "    potential issues and areas for \\\n",
    "    future improvement. Your summary should be written in your own words and should not include any direct \n",
    "    quotes from the paper. Please ensure that your summary is clear, concise, and accurately reflects the \\\n",
    "    content of the original paper.\n",
    "    Provide a short title of <50 characters separated by <Title> and </Title> and \\\n",
    "    a longer numbered list separated by <Long Summary> and </Long Summary> \n",
    "    Think deeply about the paper, go step by step, and do not hallucinate.\"\"\"),\n",
    "        ell.user(f\"Please help me summarize {text}.\")]\n"
   ]
  },
  {
   "cell_type": "code",
   "execution_count": 14,
   "id": "916bae62",
   "metadata": {},
   "outputs": [],
   "source": [
    "@ell.complex(model=\"gpt-4o\")\n",
    "def figure_summary(image: Image.Image,fig_id, docs ):\n",
    "\n",
    "    return [\n",
    "        ell.system(\"You are a PhD level scientist. Please \\\n",
    "        summarize all information related to the given image from the following paper. \\\n",
    "        Please return coordinates for a bounding box around anything you think the user\\\n",
    "        should focus on. Go step by step,\\\n",
    "        think before you act, and do not hallucinate.\"),\n",
    "        ell.user([\n",
    "            \"Image:\", image,\n",
    "            \"Request:\", f\"Please help me understand the given figure (figure {fig_id}) from {docs}.\"\n",
    "        ])\n",
    "    ]\n"
   ]
  },
  {
   "cell_type": "code",
   "execution_count": null,
   "id": "4c681003",
   "metadata": {},
   "outputs": [],
   "source": []
  },
  {
   "cell_type": "code",
   "execution_count": 15,
   "id": "4da76337",
   "metadata": {},
   "outputs": [],
   "source": [
    "from re import split\n",
    "from glob import glob\n",
    "\n",
    "natsort = lambda s: [int(t) if t.isdigit() else t.lower() for t in split(r'(\\d+)', s)]\n",
    "\n"
   ]
  },
  {
   "cell_type": "code",
   "execution_count": 16,
   "id": "897070cc",
   "metadata": {},
   "outputs": [],
   "source": [
    "path = f\"{tmp_folder}/*.png\"\n",
    "sorted_image_files = sorted(glob(path), key=natsort)\n"
   ]
  },
  {
   "cell_type": "code",
   "execution_count": 17,
   "id": "357c698e",
   "metadata": {},
   "outputs": [],
   "source": [
    "# Creating the report "
   ]
  },
  {
   "cell_type": "code",
   "execution_count": 18,
   "id": "a5157307",
   "metadata": {},
   "outputs": [],
   "source": [
    "intro_doc =intro(pages)\n",
    "intro_sec  = [\n",
    "    {\n",
    "        \"title\": intro_doc.split(\"<Title>\")[1].split('</Title>')[0],\n",
    "        \"text\": intro_doc.split(\"<Long Summary>\")[1].split('</Long Summary>')[0],\n",
    "        \"image_path\": None\n",
    "    }]\n",
    "\n",
    "three_main_doc =three_main_points(pages)\n",
    "three_sec  = [\n",
    "    {\n",
    "        \"title\": three_main_doc.split(\"<Title>\")[1].split('</Title>')[0],\n",
    "        \"text\": three_main_doc.split(\"<Long Summary>\")[1].split('</Long Summary>')[0],\n",
    "        \"image_path\": None\n",
    "    }]\n",
    "\n",
    "\n",
    "images_sec = [    {\n",
    "        \"title\": f\"Figure {i+1}\",\n",
    "        \"text\": figure_summary(Image.open(v), i+1, pages).content[0].text,\n",
    "        \"image_path\": v\n",
    "    }\n",
    "    for i,v in enumerate(sorted_image_files[:num_of_figs])]\n",
    "\n",
    "\n",
    "limitations_doc = limitations(pages)\n",
    "\n",
    "critque_sec  = [\n",
    "    {\n",
    "        \"title\": limitations_doc.split(\"<Title>\")[1].split('</Title>')[0],\n",
    "        \"text\": limitations_doc.split(\"<Long Summary>\")[1].split('</Long Summary>')[0],\n",
    "        \"image_path\": None\n",
    "    }]\n"
   ]
  },
  {
   "cell_type": "code",
   "execution_count": 19,
   "id": "aaed9ae6",
   "metadata": {},
   "outputs": [],
   "source": [
    "# Writing out the word document "
   ]
  },
  {
   "cell_type": "code",
   "execution_count": 20,
   "id": "0ce092c3",
   "metadata": {},
   "outputs": [
    {
     "name": "stdout",
     "output_type": "stream",
     "text": [
      "Report saved as example_report.docx\n"
     ]
    }
   ],
   "source": [
    "sections = []\n",
    "sections.extend(intro_sec)\n",
    "sections.extend(three_sec)\n",
    "sections.extend(images_sec)\n",
    "sections.extend(critque_sec)\n",
    "create_word_report(\"example_report.docx\", sections)\n"
   ]
  },
  {
   "cell_type": "code",
   "execution_count": null,
   "id": "fc584fcc",
   "metadata": {},
   "outputs": [],
   "source": []
  },
  {
   "cell_type": "code",
   "execution_count": null,
   "id": "091f3ae8",
   "metadata": {},
   "outputs": [],
   "source": []
  },
  {
   "cell_type": "code",
   "execution_count": null,
   "id": "6f5ba4ae",
   "metadata": {},
   "outputs": [],
   "source": []
  },
  {
   "cell_type": "code",
   "execution_count": null,
   "id": "03e47b2a",
   "metadata": {},
   "outputs": [],
   "source": []
  },
  {
   "cell_type": "code",
   "execution_count": null,
   "id": "614f1ae3",
   "metadata": {},
   "outputs": [],
   "source": []
  },
  {
   "cell_type": "code",
   "execution_count": null,
   "id": "a824801f",
   "metadata": {},
   "outputs": [],
   "source": []
  }
 ],
 "metadata": {
  "kernelspec": {
   "display_name": "Python 3 (ipykernel)",
   "language": "python",
   "name": "python3"
  },
  "language_info": {
   "codemirror_mode": {
    "name": "ipython",
    "version": 3
   },
   "file_extension": ".py",
   "mimetype": "text/x-python",
   "name": "python",
   "nbconvert_exporter": "python",
   "pygments_lexer": "ipython3",
   "version": "3.10.10"
  }
 },
 "nbformat": 4,
 "nbformat_minor": 5
}
